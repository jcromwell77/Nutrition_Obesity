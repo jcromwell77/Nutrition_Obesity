{
 "cells": [
  {
   "cell_type": "code",
   "execution_count": 38,
   "id": "cb31b226",
   "metadata": {},
   "outputs": [],
   "source": [
    "import requests\n",
    "import pandas as pd\n",
    "import json"
   ]
  },
  {
   "cell_type": "code",
   "execution_count": 40,
   "id": "dc4ce407",
   "metadata": {},
   "outputs": [
    {
     "name": "stdout",
     "output_type": "stream",
     "text": [
      "  yearstart yearend locationabbr locationdesc datasource  \\\n",
      "0      2011    2011           AK       Alaska      BRFSS   \n",
      "1      2011    2011           AK       Alaska      BRFSS   \n",
      "2      2011    2011           AK       Alaska      BRFSS   \n",
      "3      2011    2011           AK       Alaska      BRFSS   \n",
      "4      2011    2011           AK       Alaska      BRFSS   \n",
      "\n",
      "                     class                         topic  \\\n",
      "0  Obesity / Weight Status       Obesity / Weight Status   \n",
      "1  Obesity / Weight Status       Obesity / Weight Status   \n",
      "2        Physical Activity  Physical Activity - Behavior   \n",
      "3  Obesity / Weight Status       Obesity / Weight Status   \n",
      "4  Obesity / Weight Status       Obesity / Weight Status   \n",
      "\n",
      "                                            question data_value_unit  \\\n",
      "0  Percent of adults aged 18 years and older who ...            2011   \n",
      "1  Percent of adults aged 18 years and older who ...            2011   \n",
      "2  Percent of adults who achieve at least 150 min...            2011   \n",
      "3  Percent of adults aged 18 years and older who ...            2011   \n",
      "4  Percent of adults aged 18 years and older who ...            2011   \n",
      "\n",
      "  data_value_type  ...    stratification1 stratificationcategoryid1  \\\n",
      "0           Value  ...    2 or more races                      RACE   \n",
      "1           Value  ...              Other                      RACE   \n",
      "2           Value  ...             Female                       SEX   \n",
      "3           Value  ...            35 - 44                     AGEYR   \n",
      "4           Value  ...  $15,000 - $24,999                       INC   \n",
      "\n",
      "  stratificationid1     sex age_years             income education  \\\n",
      "0         RACE2PLUS     NaN       NaN                NaN       NaN   \n",
      "1           RACEOTH     NaN       NaN                NaN       NaN   \n",
      "2            FEMALE  Female       NaN                NaN       NaN   \n",
      "3         AGEYR3544     NaN   35 - 44                NaN       NaN   \n",
      "4           INC1525     NaN       NaN  $15,000 - $24,999       NaN   \n",
      "\n",
      "  data_value_footnote_symbol data_value_footnote total  \n",
      "0                        NaN                 NaN   NaN  \n",
      "1                        NaN                 NaN   NaN  \n",
      "2                        NaN                 NaN   NaN  \n",
      "3                        NaN                 NaN   NaN  \n",
      "4                        NaN                 NaN   NaN  \n",
      "\n",
      "[5 rows x 33 columns]\n"
     ]
    }
   ],
   "source": [
    "url = 'https://data.cdc.gov/resource/hn4x-zwk7.json'\n",
    "response = requests.get(url)\n",
    "obseity_json = response.json()\n",
    "obesity_df = pd.DataFrame.from_dict(obesity_json)\n",
    "print(obesity_df.head())"
   ]
  },
  {
   "cell_type": "code",
   "execution_count": null,
   "id": "bfe2fb18",
   "metadata": {},
   "outputs": [],
   "source": []
  }
 ],
 "metadata": {
  "kernelspec": {
   "display_name": "Python 3 (ipykernel)",
   "language": "python",
   "name": "python3"
  },
  "language_info": {
   "codemirror_mode": {
    "name": "ipython",
    "version": 3
   },
   "file_extension": ".py",
   "mimetype": "text/x-python",
   "name": "python",
   "nbconvert_exporter": "python",
   "pygments_lexer": "ipython3",
   "version": "3.11.4"
  }
 },
 "nbformat": 4,
 "nbformat_minor": 5
}
